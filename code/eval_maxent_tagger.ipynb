{
 "cells": [
  {
   "cell_type": "code",
   "execution_count": 2,
   "metadata": {
    "collapsed": false
   },
   "outputs": [],
   "source": [
    "import numpy as np\n",
    "from sklearn.linear_model import LogisticRegression\n",
    "import scipy.sparse\n",
    "import time\n",
    "import itertools\n",
    "import sys\n",
    "import pickle\n",
    "import helper\n",
    "import train\n",
    "import predict\n"
   ]
  },
  {
   "cell_type": "code",
   "execution_count": 3,
   "metadata": {
    "collapsed": false
   },
   "outputs": [],
   "source": [
    "# test_file = \"../data/tagged_data/EMA2/dev.3.tag\" #sys.argv[1]\n",
    "test_file = \"../data/tagged_data/whole_text_full_city/dev.tag\" #sys.argv[1]\n",
    "test_data, test_identifier = train.load_data(test_file)\n"
   ]
  },
  {
   "cell_type": "code",
   "execution_count": 10,
   "metadata": {
    "collapsed": false
   },
   "outputs": [],
   "source": [
    "trained_model = \"trained_model.large.y.p\" #sys.argv[2]\n",
    "tic = time.clock()"
   ]
  },
  {
   "cell_type": "code",
   "execution_count": null,
   "metadata": {
    "collapsed": false
   },
   "outputs": [],
   "source": []
  },
  {
   "cell_type": "code",
   "execution_count": 11,
   "metadata": {
    "collapsed": false
   },
   "outputs": [],
   "source": [
    "viterbi = False"
   ]
  },
  {
   "cell_type": "code",
   "execution_count": 12,
   "metadata": {
    "collapsed": false
   },
   "outputs": [],
   "source": [
    "reload(train)\n",
    "reload(predict)\n",
    "clf, previous_n,next_n, word_vocab, other_features = pickle.load( open( trained_model, \"rb\" ) )\n",
    "\n",
    "ptags = []\n",
    "goldY = []\n",
    "for i, article in enumerate(test_data):\n",
    "    sentence = article[0]\n",
    "    gold = article[1]\n",
    "    try:\n",
    "        dataY, dataYconfidences = predict.predict_tags_n(viterbi, previous_n,next_n, clf, sentence, word_vocab, other_features)\n",
    "        ptags.extend(dataY)\n",
    "        goldY.extend(gold)\n",
    "    except Exception, e:\n",
    "        print sentence, article[1], test_identifier[i]\n"
   ]
  },
  {
   "cell_type": "code",
   "execution_count": 15,
   "metadata": {
    "collapsed": false
   },
   "outputs": [
    {
     "name": "stdout",
     "output_type": "stream",
     "text": [
      "4171\n",
      "3544.0\n",
      "['shooterName', 'killedNum', 'woundedNum', 'city']\n",
      "killedNum ( 26 , 79 , 131 ) ( 0.329113924051 , 0.198473282443 , 0.247619047619 )\n",
      "woundedNum ( 136 , 164 , 224 ) ( 0.829268292683 , 0.607142857143 , 0.701030927835 )\n",
      "city ( 244 , 315 , 336 ) ( 0.774603174603 , 0.72619047619 , 0.749615975422 )\n"
     ]
    }
   ],
   "source": [
    "print sum(goldY)\n",
    "print sum(ptags)\n",
    "print train.int2tags\n",
    "for ent in range(1,len(train.int2tags)):\n",
    "    correct = [1 if ptags[i] == ent and goldY[i] == ent else 0 for i in range(len(ptags))]\n",
    "    guessed = [1 if ptags[i] == ent else 0 for i in range(len(ptags))]\n",
    "    total   = [1 if goldY[i] == ent else 0 for i in range(len(ptags))]\n",
    "\n",
    "\n",
    "    accuracy = sum(correct) *1./sum(guessed) if sum(guessed) > 0 else 0\n",
    "    recall   = sum(correct) * 1./sum(total) if  sum(total) > 0 else 0\n",
    "    f1 = accuracy * recall * 2. / (accuracy + recall) \n",
    "\n",
    "    print train.int2tags[ent], \"(\" , sum(correct), \",\", sum(guessed), \",\", sum(total), \")\" , \"(\",accuracy, \",\", recall, \",\", f1, \")\"\n",
    "\n"
   ]
  },
  {
   "cell_type": "code",
   "execution_count": 9,
   "metadata": {
    "collapsed": false
   },
   "outputs": [
    {
     "data": {
      "text/plain": [
       "'Affected_Food_Product: (347, 534, 835) (0.6498, 0.4156, 0.5069)\\nProduced_Location: (125, 206, 240) (0.6068, 0.5208, 0.5605)\\nConsumer_Brand: (28, 37, 605) (0.7568, 0.0463, 0.0872)\\nAdulterant: (68, 115, 334) (0.5913, 0.2036, 0.3029)\\n'"
      ]
     },
     "execution_count": 9,
     "metadata": {},
     "output_type": "execute_result"
    }
   ],
   "source": [
    "\"\"\"Affected_Food_Product: (347, 534, 835) (0.6498, 0.4156, 0.5069)\n",
    "Produced_Location: (125, 206, 240) (0.6068, 0.5208, 0.5605)\n",
    "Consumer_Brand: (28, 37, 605) (0.7568, 0.0463, 0.0872)\n",
    "Adulterant: (68, 115, 334) (0.5913, 0.2036, 0.3029)\n",
    "\"\"\""
   ]
  },
  {
   "cell_type": "code",
   "execution_count": null,
   "metadata": {
    "collapsed": true
   },
   "outputs": [],
   "source": []
  }
 ],
 "metadata": {
  "kernelspec": {
   "display_name": "Python 2",
   "language": "python",
   "name": "python2"
  },
  "language_info": {
   "codemirror_mode": {
    "name": "ipython",
    "version": 2
   },
   "file_extension": ".py",
   "mimetype": "text/x-python",
   "name": "python",
   "nbconvert_exporter": "python",
   "pygments_lexer": "ipython2",
   "version": "2.7.11"
  }
 },
 "nbformat": 4,
 "nbformat_minor": 0
}
